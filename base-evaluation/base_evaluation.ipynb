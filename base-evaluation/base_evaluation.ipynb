{
 "cells": [
  {
   "cell_type": "markdown",
   "id": "ad829332",
   "metadata": {},
   "source": [
    "# **Base Evaluation**"
   ]
  },
  {
   "cell_type": "markdown",
   "id": "0e38f713",
   "metadata": {},
   "source": [
    "## **Config**"
   ]
  },
  {
   "cell_type": "code",
   "execution_count": 2,
   "id": "c814480b",
   "metadata": {},
   "outputs": [],
   "source": [
    "import os\n",
    "\n",
    "seed = 42\n",
    "gpu_ids = \"7\"\n",
    "\n",
    "METRICS_FILE   = \"evaluation_metrics.csv\"\n",
    "DATASET_PATH   = \"../datasets/cqa_test_prompt_completion.jsonl\"\n",
    "BATCH_SIZE     = 128\n",
    "\n",
    "MODEL_NAMES = {\n",
    "    \"Meta-Llama-3.1-8B\": \"../model_cache/Meta-Llama-3.1-8B\",\n",
    "    \"Aya-23-8B\":         \"../model_cache/Aya-23-8B\",\n",
    "    \"SeaLLMs-v3-7B\":     \"../model_cache/SeaLLMs-v3-7B\",\n",
    "    \"SEA-LION-v3-8B\":    \"../model_cache/SEA-LION-v3-8B\",\n",
    "    \"Sahabat-AI-8B\":     \"../model_cache/Sahabat-AI-8B\"\n",
    "}"
   ]
  },
  {
   "cell_type": "markdown",
   "id": "e1466a00",
   "metadata": {},
   "source": [
    "## **Import Libraries**"
   ]
  },
  {
   "cell_type": "code",
   "execution_count": 3,
   "id": "67eb3eb7",
   "metadata": {},
   "outputs": [
    {
     "name": "stderr",
     "output_type": "stream",
     "text": [
      "/raid/home/llmsosmed/rlaif/lib/python3.10/site-packages/tqdm/auto.py:21: TqdmWarning: IProgress not found. Please update jupyter and ipywidgets. See https://ipywidgets.readthedocs.io/en/stable/user_install.html\n",
      "  from .autonotebook import tqdm as notebook_tqdm\n"
     ]
    },
    {
     "name": "stdout",
     "output_type": "stream",
     "text": [
      "[2025-06-07 02:17:11,199] [INFO] [real_accelerator.py:239:get_accelerator] Setting ds_accelerator to cuda (auto detect)\n"
     ]
    },
    {
     "name": "stderr",
     "output_type": "stream",
     "text": [
      "/usr/bin/ld: cannot find -laio: No such file or directory\n",
      "collect2: error: ld returned 1 exit status\n",
      "/usr/bin/ld: cannot find -laio: No such file or directory\n",
      "collect2: error: ld returned 1 exit status\n"
     ]
    }
   ],
   "source": [
    "os.environ[\"CUDA_VISIBLE_DEVICES\"] = gpu_ids\n",
    "\n",
    "import gc\n",
    "import time\n",
    "import signal\n",
    "import random\n",
    "\n",
    "import torch\n",
    "import numpy as np\n",
    "import pandas as pd\n",
    "\n",
    "from tqdm.auto import tqdm\n",
    "from transformers import (\n",
    "    AutoTokenizer,\n",
    "    AutoModelForCausalLM,\n",
    "    BitsAndBytesConfig,\n",
    "    set_seed\n",
    ")\n",
    "import evaluate\n",
    "\n",
    "pd.set_option(\"display.max_colwidth\", None)"
   ]
  },
  {
   "cell_type": "markdown",
   "id": "b39100a4",
   "metadata": {},
   "source": [
    "## **Utility Functions**"
   ]
  },
  {
   "cell_type": "code",
   "execution_count": 4,
   "id": "d1d6e6e1",
   "metadata": {},
   "outputs": [],
   "source": [
    "def set_global_seed(s: int = seed):\n",
    "    random.seed(s)\n",
    "    np.random.seed(s)\n",
    "    torch.manual_seed(s)\n",
    "    torch.cuda.manual_seed_all(s)\n",
    "    torch.backends.cudnn.deterministic = True\n",
    "    torch.backends.cudnn.benchmark     = False\n",
    "    set_seed(s)\n",
    "\n",
    "def load_model_and_tokenizer(model_path: str, use_auth_token: str = None):\n",
    "    set_global_seed()\n",
    "    tokenizer = AutoTokenizer.from_pretrained(\n",
    "        model_path,\n",
    "        local_files_only=True,\n",
    "        token=use_auth_token\n",
    "    )\n",
    "    if tokenizer.pad_token is None:\n",
    "        tokenizer.pad_token = tokenizer.eos_token\n",
    "    tokenizer.padding_side = \"left\"\n",
    "\n",
    "    quant_config = BitsAndBytesConfig(\n",
    "        load_in_4bit=True,\n",
    "        bnb_4bit_compute_dtype=torch.bfloat16,\n",
    "        bnb_4bit_quant_type=\"nf4\",\n",
    "    )\n",
    "    model = AutoModelForCausalLM.from_pretrained(\n",
    "        model_path,\n",
    "        device_map=\"auto\",\n",
    "        quantization_config=quant_config,\n",
    "        local_files_only=True,\n",
    "        token=use_auth_token\n",
    "    )\n",
    "    model.eval()\n",
    "    return tokenizer, model\n",
    "\n",
    "def generate_batch(tokenizer, model, prompts, max_new_tokens=256):\n",
    "    inputs = tokenizer(\n",
    "        prompts,\n",
    "        return_tensors=\"pt\",\n",
    "        padding=True,\n",
    "        truncation=True,\n",
    "        max_length=1792\n",
    "    ).to(model.device)\n",
    "    with torch.no_grad():\n",
    "        outputs = model.generate(\n",
    "            **inputs,\n",
    "            max_new_tokens=max_new_tokens,\n",
    "            do_sample=False,\n",
    "            pad_token_id=tokenizer.eos_token_id,\n",
    "        )\n",
    "    decoded = tokenizer.batch_decode(outputs, skip_special_tokens=True)\n",
    "    return [\n",
    "        text[len(prompt):]#.split(\"\\n\", 1)[0]\n",
    "        for text, prompt in zip(decoded, prompts)\n",
    "    ]"
   ]
  },
  {
   "cell_type": "code",
   "execution_count": 5,
   "id": "80400be9",
   "metadata": {},
   "outputs": [],
   "source": [
    "set_global_seed()"
   ]
  },
  {
   "cell_type": "markdown",
   "id": "4cf425b3",
   "metadata": {},
   "source": [
    "## **Load Dataset**"
   ]
  },
  {
   "cell_type": "code",
   "execution_count": 6,
   "id": "f527e873",
   "metadata": {},
   "outputs": [
    {
     "name": "stdout",
     "output_type": "stream",
     "text": [
      "Total examples: 340\n"
     ]
    },
    {
     "data": {
      "text/html": [
       "<div>\n",
       "<style scoped>\n",
       "    .dataframe tbody tr th:only-of-type {\n",
       "        vertical-align: middle;\n",
       "    }\n",
       "\n",
       "    .dataframe tbody tr th {\n",
       "        vertical-align: top;\n",
       "    }\n",
       "\n",
       "    .dataframe thead th {\n",
       "        text-align: right;\n",
       "    }\n",
       "</style>\n",
       "<table border=\"1\" class=\"dataframe\">\n",
       "  <thead>\n",
       "    <tr style=\"text-align: right;\">\n",
       "      <th></th>\n",
       "      <th>prompt</th>\n",
       "      <th>completion</th>\n",
       "    </tr>\n",
       "  </thead>\n",
       "  <tbody>\n",
       "    <tr>\n",
       "      <th>284</th>\n",
       "      <td>Anda adalah pakar regulasi keuangan Indonesia. Jawablah berdasarkan konteks yang disediakan; jika tidak terdapat pada konteks, jawab “Saya tidak tahu terkait {question}.”\\n\\nContext:\\nPasal 5 (1) Kontrak Investasi Kolektif DIRE Syariah, selain wajib memenuhi ketentuan yang diatur dalam peraturan perundang-undangan di sektor Pasar Modal yang mengatur mengenai Dana Investasi Real Estat berbentuk Kontrak Investasi Kolektif sebagaimana dimaksud dalam Pasal 4, wajib pula memuat ketentuan paling sedikit: a. Manajer Investasi dan Bank Kustodian merupakan wakil (wakiliin) yang bertindak untuk kepentingan para pemegang Unit Penyertaan DIRE Syariah berbentuk Kontrak Investasi Kolektif sebagai pihak yang diwakili (muwakil) dimana Manajer Investasi diberi wewenang untuk mengelola portofolio investasi kolektif dan Bank Kustodian diberi wewenang untuk melaksanakan Penitipan Kolektif; b. aset Real Estat, Aset Yang Berkaitan Dengan Real Estat, dan/atau kas dan setara kas tidak bertentangan dengan Prinsip Syariah di Pasar Modal; c. mekanisme pembersihan aset Real Estat, Aset Yang Berkaitan Dengan Real Estat, dan/atau kas dan setara kas dari unsur yang bertentangan dengan\\n\\nQuestion: Apa saja ketentuan minimal yang harus dimuat dalam Kontrak Investasi Kolektif DIRE Syariah?\\nAnswer:</td>\n",
       "      <td>Mekanisme proses dijelaskan sebagai Manajer Investasi dan Bank Kustodian sebagai wakil, aset tidak bertentangan dengan Prinsip Syariah, mekanisme pembersihan aset, kata 'Syariah' pada nama, akad syariah dan skema transaksi, ringkasan akad, besarnya nisbah pembayaran, dan rencana jadwal serta tata cara pembagian hasil.</td>\n",
       "    </tr>\n",
       "    <tr>\n",
       "      <th>116</th>\n",
       "      <td>Anda adalah pakar regulasi keuangan Indonesia. Jawablah berdasarkan konteks yang disediakan; jika tidak terdapat pada konteks, jawab “Saya tidak tahu terkait {question}.”\\n\\nContext:\\n6. \\nPeminjam adalah nasabah perorangan, perusahaan, atau \\nbadan yang memperoleh Penyediaan Dana dari Bank, \\ntermasuk: \\na. \\ndebitur, untuk Penyediaan Dana berupa kredit atau \\npembiayaan; \\nb. \\npenerbit surat berharga, pihak yang menjual surat \\nberharga, \\nmanajer \\ninvestasi \\nkontrak \\ninvestasi \\nkolektif, \\ndan/atau \\nentitas \\nreferensi  \\n(reference entity), untuk Penyediaan Dana berupa \\nsurat berharga; \\nc. \\npihak yang mengalihkan risiko kredit (protection \\nbuyer) dan/atau entitas referensi (reference entity), \\nuntuk Penyediaan Dana berupa derivatif kredit  \\n(credit derivatives); \\nd. \\npemohon (applicant), untuk Penyediaan Dana berupa \\njaminan (guarantee), letter of credit, standby letter of \\ncredit, atau instrumen serupa lain; \\ne. \\npihak tempat Bank melakukan penyertaan modal \\n(investee), \\nuntuk \\nPenyediaan \\nDana \\nberupa \\npenyertaan modal; \\nf. \\nBank atau debitur, untuk Penyediaan Dana berupa \\ntagihan akseptasi; \\ng. \\npihak \\nlawan \\ntransaksi \\n(counterparty), \\nuntuk \\nPenyediaan Dana berupa penempatan dan transaksi \\nderivatif; dan/atau \\nh. \\npihak lain yang wajib melunasi tagihan kepada Bank.\\n\\nQuestion: Siapa saja yang termasuk dalam definisi Peminjam menurut dokumen ini?\\nAnswer:</td>\n",
       "      <td>Dokumen ini mencakup nasabah perorangan, perusahaan, atau badan yang memperoleh Penyediaan Dana dari Bank sebagai Peminjam.</td>\n",
       "    </tr>\n",
       "    <tr>\n",
       "      <th>113</th>\n",
       "      <td>Anda adalah pakar regulasi keuangan Indonesia. Jawablah berdasarkan konteks yang disediakan; jika tidak terdapat pada konteks, jawab “Saya tidak tahu terkait {question}.”\\n\\nContext:\\nPasal 3 (1) Setiap Pihak yang melanggar ketentuan sebagaimana dimaksud dalam Pasal 2 ayat (2), dikenakan sanksi administratif. (2) Sanksi sebagaimana dimaksud pada ayat (1) dikenakan juga kepada Pihak yang menyebabkan terjadinya pelanggaran sebagaimana dimaksud pada ayat (1). (3) Sanksi sebagaimana dimaksud pada ayat (1) dan ayat (2) dijatuhkan oleh Otoritas jasa Keuangan. (4) Sanksi administratif sebagaimana dimaksud pada ayat (1) berupa: a. peringatan tertulis; b.  denda yaitu kewajiban untuk membayar sejumlah uang tertentu; c.  pembatasan kegiatan usaha; d.  pembekuan kegiatan usaha; e.  pencabutan izin usaha; f.  pembatalan persetujuan; dan/atau g. pembatalan pendaftaran. (5) Tata cara pengenaan sanksi sebagaimana dimaksud pada ayat (3) dilakukan sesuai dengan ketentuan peraturan perundang-undangan. (6) Sanksi administratif sebagaimana dimaksud pada ayat (4) huruf b, huruf c, huruf d, huruf e, huruf f, atau huruf g dapat dikenakan dengan atau tanpa didahului\\n\\nQuestion: Apa masa berlaku sanksi administratif pada Pasal 3?\\nAnswer:</td>\n",
       "      <td>Saya tidak tahu terkait masa berlaku sanksi administratif pada Pasal 3.</td>\n",
       "    </tr>\n",
       "  </tbody>\n",
       "</table>\n",
       "</div>"
      ],
      "text/plain": [
       "                                                                                                                                                                                                                                                                                                                                                                                                                                                                                                                                                                                                                                                                                                                                                                                                                                                                                                                                                                                                                                                                                                                                                                                                                                                                                                                                                                                                                                                                              prompt  \\\n",
       "284                                                                                                                                           Anda adalah pakar regulasi keuangan Indonesia. Jawablah berdasarkan konteks yang disediakan; jika tidak terdapat pada konteks, jawab “Saya tidak tahu terkait {question}.”\\n\\nContext:\\nPasal 5 (1) Kontrak Investasi Kolektif DIRE Syariah, selain wajib memenuhi ketentuan yang diatur dalam peraturan perundang-undangan di sektor Pasar Modal yang mengatur mengenai Dana Investasi Real Estat berbentuk Kontrak Investasi Kolektif sebagaimana dimaksud dalam Pasal 4, wajib pula memuat ketentuan paling sedikit: a. Manajer Investasi dan Bank Kustodian merupakan wakil (wakiliin) yang bertindak untuk kepentingan para pemegang Unit Penyertaan DIRE Syariah berbentuk Kontrak Investasi Kolektif sebagai pihak yang diwakili (muwakil) dimana Manajer Investasi diberi wewenang untuk mengelola portofolio investasi kolektif dan Bank Kustodian diberi wewenang untuk melaksanakan Penitipan Kolektif; b. aset Real Estat, Aset Yang Berkaitan Dengan Real Estat, dan/atau kas dan setara kas tidak bertentangan dengan Prinsip Syariah di Pasar Modal; c. mekanisme pembersihan aset Real Estat, Aset Yang Berkaitan Dengan Real Estat, dan/atau kas dan setara kas dari unsur yang bertentangan dengan\\n\\nQuestion: Apa saja ketentuan minimal yang harus dimuat dalam Kontrak Investasi Kolektif DIRE Syariah?\\nAnswer:   \n",
       "116  Anda adalah pakar regulasi keuangan Indonesia. Jawablah berdasarkan konteks yang disediakan; jika tidak terdapat pada konteks, jawab “Saya tidak tahu terkait {question}.”\\n\\nContext:\\n6. \\nPeminjam adalah nasabah perorangan, perusahaan, atau \\nbadan yang memperoleh Penyediaan Dana dari Bank, \\ntermasuk: \\na. \\ndebitur, untuk Penyediaan Dana berupa kredit atau \\npembiayaan; \\nb. \\npenerbit surat berharga, pihak yang menjual surat \\nberharga, \\nmanajer \\ninvestasi \\nkontrak \\ninvestasi \\nkolektif, \\ndan/atau \\nentitas \\nreferensi  \\n(reference entity), untuk Penyediaan Dana berupa \\nsurat berharga; \\nc. \\npihak yang mengalihkan risiko kredit (protection \\nbuyer) dan/atau entitas referensi (reference entity), \\nuntuk Penyediaan Dana berupa derivatif kredit  \\n(credit derivatives); \\nd. \\npemohon (applicant), untuk Penyediaan Dana berupa \\njaminan (guarantee), letter of credit, standby letter of \\ncredit, atau instrumen serupa lain; \\ne. \\npihak tempat Bank melakukan penyertaan modal \\n(investee), \\nuntuk \\nPenyediaan \\nDana \\nberupa \\npenyertaan modal; \\nf. \\nBank atau debitur, untuk Penyediaan Dana berupa \\ntagihan akseptasi; \\ng. \\npihak \\nlawan \\ntransaksi \\n(counterparty), \\nuntuk \\nPenyediaan Dana berupa penempatan dan transaksi \\nderivatif; dan/atau \\nh. \\npihak lain yang wajib melunasi tagihan kepada Bank.\\n\\nQuestion: Siapa saja yang termasuk dalam definisi Peminjam menurut dokumen ini?\\nAnswer:   \n",
       "113                                                                                                                                                                                               Anda adalah pakar regulasi keuangan Indonesia. Jawablah berdasarkan konteks yang disediakan; jika tidak terdapat pada konteks, jawab “Saya tidak tahu terkait {question}.”\\n\\nContext:\\nPasal 3 (1) Setiap Pihak yang melanggar ketentuan sebagaimana dimaksud dalam Pasal 2 ayat (2), dikenakan sanksi administratif. (2) Sanksi sebagaimana dimaksud pada ayat (1) dikenakan juga kepada Pihak yang menyebabkan terjadinya pelanggaran sebagaimana dimaksud pada ayat (1). (3) Sanksi sebagaimana dimaksud pada ayat (1) dan ayat (2) dijatuhkan oleh Otoritas jasa Keuangan. (4) Sanksi administratif sebagaimana dimaksud pada ayat (1) berupa: a. peringatan tertulis; b.  denda yaitu kewajiban untuk membayar sejumlah uang tertentu; c.  pembatasan kegiatan usaha; d.  pembekuan kegiatan usaha; e.  pencabutan izin usaha; f.  pembatalan persetujuan; dan/atau g. pembatalan pendaftaran. (5) Tata cara pengenaan sanksi sebagaimana dimaksud pada ayat (3) dilakukan sesuai dengan ketentuan peraturan perundang-undangan. (6) Sanksi administratif sebagaimana dimaksud pada ayat (4) huruf b, huruf c, huruf d, huruf e, huruf f, atau huruf g dapat dikenakan dengan atau tanpa didahului\\n\\nQuestion: Apa masa berlaku sanksi administratif pada Pasal 3?\\nAnswer:   \n",
       "\n",
       "                                                                                                                                                                                                                                                                                                                           completion  \n",
       "284   Mekanisme proses dijelaskan sebagai Manajer Investasi dan Bank Kustodian sebagai wakil, aset tidak bertentangan dengan Prinsip Syariah, mekanisme pembersihan aset, kata 'Syariah' pada nama, akad syariah dan skema transaksi, ringkasan akad, besarnya nisbah pembayaran, dan rencana jadwal serta tata cara pembagian hasil.  \n",
       "116                                                                                                                                                                                                       Dokumen ini mencakup nasabah perorangan, perusahaan, atau badan yang memperoleh Penyediaan Dana dari Bank sebagai Peminjam.  \n",
       "113                                                                                                                                                                                                                                                           Saya tidak tahu terkait masa berlaku sanksi administratif pada Pasal 3.  "
      ]
     },
     "execution_count": 6,
     "metadata": {},
     "output_type": "execute_result"
    }
   ],
   "source": [
    "df = pd.read_json(DATASET_PATH, lines=True)\n",
    "print(f\"Total examples: {len(df)}\")\n",
    "df.sample(3)"
   ]
  },
  {
   "cell_type": "markdown",
   "id": "b60427b6",
   "metadata": {},
   "source": [
    "## **Prepare Metrics**"
   ]
  },
  {
   "cell_type": "code",
   "execution_count": 7,
   "id": "eaee5461",
   "metadata": {},
   "outputs": [
    {
     "name": "stderr",
     "output_type": "stream",
     "text": [
      "[nltk_data] Downloading package wordnet to\n",
      "[nltk_data]     /home/llmsosmed/nltk_data...\n",
      "[nltk_data]   Package wordnet is already up-to-date!\n",
      "[nltk_data] Downloading package punkt_tab to\n",
      "[nltk_data]     /home/llmsosmed/nltk_data...\n",
      "[nltk_data]   Package punkt_tab is already up-to-date!\n",
      "[nltk_data] Downloading package omw-1.4 to\n",
      "[nltk_data]     /home/llmsosmed/nltk_data...\n",
      "[nltk_data]   Package omw-1.4 is already up-to-date!\n"
     ]
    }
   ],
   "source": [
    "if not os.path.exists(METRICS_FILE):\n",
    "    pd.DataFrame(columns=[\n",
    "        \"model\",\"exact_match\",\"rouge1_f1\",\"rouge2_f1\",\"rougeL_f1\",\n",
    "        \"bleu\",\"meteor\",\"inference_time_sec\"\n",
    "    ]).to_csv(METRICS_FILE, index=False)\n",
    "\n",
    "# Load evaluators\n",
    "em    = evaluate.load(\"exact_match\")\n",
    "rouge = evaluate.load(\"rouge\")\n",
    "bleu  = evaluate.load(\"bleu\")\n",
    "meteor= evaluate.load(\"meteor\")"
   ]
  },
  {
   "cell_type": "markdown",
   "id": "f47c4046",
   "metadata": {},
   "source": [
    "## **Inference & Evaluation**"
   ]
  },
  {
   "cell_type": "code",
   "execution_count": null,
   "id": "bc4b2833",
   "metadata": {},
   "outputs": [
    {
     "name": "stdout",
     "output_type": "stream",
     "text": [
      "\n",
      "▶ Evaluating Meta-Llama-3.1-8B\n"
     ]
    },
    {
     "name": "stderr",
     "output_type": "stream",
     "text": [
      "Loading checkpoint shards: 100%|██████████| 4/4 [00:14<00:00,  3.64s/it]\n"
     ]
    },
    {
     "name": "stdout",
     "output_type": "stream",
     "text": [
      "=== LoRA weights for Meta-Llama-3.1-8B ===\n",
      "==============================\n"
     ]
    },
    {
     "name": "stderr",
     "output_type": "stream",
     "text": [
      "Meta-Llama-3.1-8B:   0%|          | 0/3 [00:00<?, ?it/s]/raid/home/llmsosmed/rlaif/lib/python3.10/site-packages/transformers/generation/configuration_utils.py:631: UserWarning: `do_sample` is set to `False`. However, `temperature` is set to `0.6` -- this flag is only used in sample-based generation modes. You should set `do_sample=True` or unset `temperature`.\n",
      "  warnings.warn(\n",
      "/raid/home/llmsosmed/rlaif/lib/python3.10/site-packages/transformers/generation/configuration_utils.py:636: UserWarning: `do_sample` is set to `False`. However, `top_p` is set to `0.9` -- this flag is only used in sample-based generation modes. You should set `do_sample=True` or unset `top_p`.\n",
      "  warnings.warn(\n",
      "Meta-Llama-3.1-8B: 100%|██████████| 3/3 [04:04<00:00, 81.60s/it]\n"
     ]
    },
    {
     "name": "stdout",
     "output_type": "stream",
     "text": [
      "→ Inference time: 244.8 sec\n",
      "\n",
      "▶ Evaluating Aya-23-8B\n"
     ]
    },
    {
     "name": "stderr",
     "output_type": "stream",
     "text": [
      "Loading checkpoint shards: 100%|██████████| 4/4 [00:13<00:00,  3.46s/it]\n"
     ]
    },
    {
     "name": "stdout",
     "output_type": "stream",
     "text": [
      "=== LoRA weights for Aya-23-8B ===\n",
      "==============================\n"
     ]
    },
    {
     "name": "stderr",
     "output_type": "stream",
     "text": [
      "Aya-23-8B: 100%|██████████| 3/3 [03:38<00:00, 72.71s/it]\n"
     ]
    },
    {
     "name": "stdout",
     "output_type": "stream",
     "text": [
      "→ Inference time: 218.1 sec\n",
      "\n",
      "▶ Evaluating SeaLLMs-v3-7B\n"
     ]
    },
    {
     "name": "stderr",
     "output_type": "stream",
     "text": [
      "Sliding Window Attention is enabled but not implemented for `sdpa`; unexpected results may be encountered.\n",
      "Loading checkpoint shards: 100%|██████████| 7/7 [00:16<00:00,  2.29s/it]\n"
     ]
    },
    {
     "name": "stdout",
     "output_type": "stream",
     "text": [
      "=== LoRA weights for SeaLLMs-v3-7B ===\n",
      "==============================\n"
     ]
    },
    {
     "name": "stderr",
     "output_type": "stream",
     "text": [
      "SeaLLMs-v3-7B: 100%|██████████| 3/3 [03:11<00:00, 63.79s/it]\n"
     ]
    },
    {
     "name": "stdout",
     "output_type": "stream",
     "text": [
      "→ Inference time: 191.4 sec\n",
      "\n",
      "▶ Evaluating SEA-LION-v3-8B\n"
     ]
    },
    {
     "name": "stderr",
     "output_type": "stream",
     "text": [
      "Loading checkpoint shards: 100%|██████████| 4/4 [00:14<00:00,  3.64s/it]\n"
     ]
    },
    {
     "name": "stdout",
     "output_type": "stream",
     "text": [
      "=== LoRA weights for SEA-LION-v3-8B ===\n",
      "==============================\n"
     ]
    },
    {
     "name": "stderr",
     "output_type": "stream",
     "text": [
      "SEA-LION-v3-8B:  33%|███▎      | 1/3 [01:29<02:59, 89.76s/it]"
     ]
    }
   ],
   "source": [
    "for model_key, model_id in MODEL_NAMES.items():\n",
    "    print(f\"\\n▶ Evaluating {model_key}\")\n",
    "    tokenizer, model = load_model_and_tokenizer(model_id, use_auth_token=os.getenv(\"HF_TOKEN\"))\n",
    "\n",
    "    # —– Cetak statistik bobot LoRA\n",
    "    print(\"=== LoRA weights for\", model_key, \"===\")\n",
    "    for name, param in model.named_parameters():\n",
    "        if \"lora\" in name:\n",
    "            print(name, param.norm().item()) \n",
    "    print(\"=\"*30)\n",
    "    \n",
    "    # Warm-up\n",
    "    _ = model.generate(\n",
    "        **tokenizer(\"Warm up\", return_tensors=\"pt\").to(model.device),\n",
    "        max_new_tokens=1,\n",
    "        pad_token_id=tokenizer.eos_token_id\n",
    "    )\n",
    "\n",
    "    preds, refs, details = [], [], []\n",
    "    start = time.time()\n",
    "\n",
    "    for i in tqdm(range(0, len(df), BATCH_SIZE), desc=model_key):\n",
    "        batch = df.iloc[i : i + BATCH_SIZE]\n",
    "        prompts = batch[\"prompt\"].tolist()\n",
    "        batch_preds = generate_batch(tokenizer, model, prompts)\n",
    "\n",
    "        preds.extend(batch_preds)\n",
    "        refs.extend(batch[\"completion\"].tolist())\n",
    "\n",
    "        # Simpan detail\n",
    "        for prompt, ref, pred in zip(prompts, batch[\"completion\"], batch_preds):\n",
    "            details.append({\n",
    "                \"prompt\": prompt,\n",
    "                \"ground_truth\": ref,\n",
    "                model_key: pred\n",
    "            })\n",
    "\n",
    "    inf_time = time.time() - start\n",
    "    print(f\"→ Inference time: {inf_time:.1f} sec\")\n",
    "\n",
    "    # Compute metrics\n",
    "    r_em  = em.compute(predictions=preds, references=refs)[\"exact_match\"]\n",
    "    r_rog = rouge.compute(predictions=preds, references=refs)\n",
    "    r_ble = bleu.compute(predictions=preds, references=[[r] for r in refs])[\"bleu\"]\n",
    "    r_met = meteor.compute(predictions=preds, references=refs)[\"meteor\"]\n",
    "\n",
    "    # Append to CSV\n",
    "    row = {\n",
    "        \"model\":             model_key,\n",
    "        \"exact_match\":       r_em,\n",
    "        \"rouge1_f1\":         r_rog[\"rouge1\"],\n",
    "        \"rouge2_f1\":         r_rog[\"rouge2\"],\n",
    "        \"rougeL_f1\":         r_rog[\"rougeL\"],\n",
    "        \"bleu\":              r_ble,\n",
    "        \"meteor\":            r_met,\n",
    "        \"inference_time_sec\": inf_time\n",
    "    }\n",
    "    pd.DataFrame([row]).to_csv(METRICS_FILE, mode=\"a\", header=False, index=False)\n",
    "\n",
    "    # Save detailed predictions\n",
    "    pd.DataFrame(details).to_json(\n",
    "        f\"detailed_{model_key}.jsonl\",\n",
    "        orient=\"records\",\n",
    "        lines=True\n",
    "    )\n",
    "\n",
    "    # Cleanup\n",
    "    del model, tokenizer\n",
    "    torch.cuda.empty_cache()\n",
    "    gc.collect()"
   ]
  },
  {
   "cell_type": "markdown",
   "id": "3048e513",
   "metadata": {},
   "source": [
    "## **Results**"
   ]
  },
  {
   "cell_type": "code",
   "execution_count": null,
   "id": "9d4502b5",
   "metadata": {},
   "outputs": [],
   "source": [
    "dfm = pd.read_csv(METRICS_FILE)\n",
    "print(dfm.to_markdown(index=False))"
   ]
  },
  {
   "cell_type": "code",
   "execution_count": null,
   "id": "7b08f3ee",
   "metadata": {
    "scrolled": false
   },
   "outputs": [],
   "source": [
    "merged = None\n",
    "\n",
    "for key in MODEL_NAMES:\n",
    "    path = f\"detailed_{key}.jsonl\"\n",
    "    if not os.path.exists(path):\n",
    "        continue\n",
    "\n",
    "    tmp = (\n",
    "        pd.read_json(path, lines=True)\n",
    "          .rename(columns={key: f\"pred_{key}\"})\n",
    "          [[\"prompt\", \"ground_truth\", f\"pred_{key}\"]]\n",
    "    )\n",
    "\n",
    "    if merged is None:\n",
    "        merged = tmp\n",
    "    else:\n",
    "        merged = merged.merge(\n",
    "            tmp,\n",
    "            on=[\"prompt\", \"ground_truth\"],\n",
    "            how=\"outer\"\n",
    "        )\n",
    "\n",
    "# Tampilkan hasil\n",
    "print(f\"Total rows in merged DataFrame: {len(merged)}\")\n",
    "display(merged.head(5))"
   ]
  },
  {
   "cell_type": "code",
   "execution_count": null,
   "id": "bd0b254d",
   "metadata": {},
   "outputs": [],
   "source": [
    "import signal\n",
    "\n",
    "os.kill(os.getpid(), signal.SIGTERM)"
   ]
  },
  {
   "cell_type": "code",
   "execution_count": null,
   "id": "19225a12",
   "metadata": {},
   "outputs": [],
   "source": []
  }
 ],
 "metadata": {
  "kernelspec": {
   "display_name": "Python (rlaifenv )",
   "language": "python",
   "name": "rlaifenv"
  },
  "language_info": {
   "codemirror_mode": {
    "name": "ipython",
    "version": 3
   },
   "file_extension": ".py",
   "mimetype": "text/x-python",
   "name": "python",
   "nbconvert_exporter": "python",
   "pygments_lexer": "ipython3",
   "version": "3.10.16"
  }
 },
 "nbformat": 4,
 "nbformat_minor": 5
}
