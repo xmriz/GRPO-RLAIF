{
 "cells": [
  {
   "cell_type": "markdown",
   "id": "ad829332",
   "metadata": {},
   "source": [
    "# **GRPO Evaluation**"
   ]
  },
  {
   "cell_type": "markdown",
   "id": "47b2ec89",
   "metadata": {},
   "source": [
    "## **Config**"
   ]
  },
  {
   "cell_type": "code",
   "execution_count": 1,
   "id": "03acbe8b",
   "metadata": {},
   "outputs": [],
   "source": [
    "import os\n",
    "\n",
    "seed = 42\n",
    "gpu_ids = \"6\"\n",
    "\n",
    "CACHE_FOLDER   = \"../model_cache\"\n",
    "METRICS_FILE   = \"grpo_evaluation_metrics.csv\"\n",
    "DATASET_PATH   = \"../datasets/cqa_test_prompt_completion.jsonl\"\n",
    "BATCH_SIZE     = 128\n",
    "\n",
    "# model_name → final merged GRPO checkpoint dir\n",
    "MODEL_NAMES = {\n",
    "#     \"Meta-Llama-3.1-8B\": os.path.join(\"grpo_output_Meta-Llama-3.1-8B\", \"final_checkpoint\"),\n",
    "#     \"Aya-23-8B\":         os.path.join(\"grpo_output_Aya-23-8B\", \"final_checkpoint\"),\n",
    "    \"SeaLLMs-v3-7B\":     os.path.join(\"grpo_output_SeaLLMs-v3-7B-SFT\", \"final_checkpoint\"),\n",
    "#     \"SEA-LION-v3-8B\":    os.path.join(\"grpo_output_SEA-LION-v3-8B\", \"final_checkpoint\"),\n",
    "#     \"Sahabat-AI-8B\":   os.path.join(\"grpo_output_Sahabat-AI-8B\", \"final_checkpoint\"),\n",
    "}"
   ]
  },
  {
   "cell_type": "markdown",
   "id": "b39100a4",
   "metadata": {},
   "source": [
    "## **Import Libraries**"
   ]
  },
  {
   "cell_type": "code",
   "execution_count": 2,
   "id": "db7b326c",
   "metadata": {},
   "outputs": [
    {
     "name": "stderr",
     "output_type": "stream",
     "text": [
      "/raid/home/llmsosmed/rlaif/lib/python3.10/site-packages/tqdm/auto.py:21: TqdmWarning: IProgress not found. Please update jupyter and ipywidgets. See https://ipywidgets.readthedocs.io/en/stable/user_install.html\n",
      "  from .autonotebook import tqdm as notebook_tqdm\n"
     ]
    },
    {
     "name": "stdout",
     "output_type": "stream",
     "text": [
      "[2025-06-01 05:00:58,942] [INFO] [real_accelerator.py:239:get_accelerator] Setting ds_accelerator to cuda (auto detect)\n"
     ]
    },
    {
     "name": "stderr",
     "output_type": "stream",
     "text": [
      "/usr/bin/ld: cannot find -laio: No such file or directory\n",
      "collect2: error: ld returned 1 exit status\n",
      "/usr/bin/ld: cannot find -laio: No such file or directory\n",
      "collect2: error: ld returned 1 exit status\n"
     ]
    }
   ],
   "source": [
    "os.environ[\"CUDA_VISIBLE_DEVICES\"] = gpu_ids\n",
    "\n",
    "import gc, time, random\n",
    "import torch\n",
    "import numpy as np\n",
    "import pandas as pd\n",
    "from tqdm.auto import tqdm\n",
    "from transformers import (\n",
    "    AutoTokenizer,\n",
    "    AutoModelForCausalLM,\n",
    "    BitsAndBytesConfig,\n",
    "    set_seed\n",
    ")\n",
    "import evaluate\n",
    "\n",
    "pd.set_option(\"display.max_colwidth\", None)"
   ]
  },
  {
   "cell_type": "markdown",
   "id": "6ae003f9",
   "metadata": {},
   "source": [
    "## **Utility Functions**"
   ]
  },
  {
   "cell_type": "code",
   "execution_count": 3,
   "id": "89907280",
   "metadata": {},
   "outputs": [],
   "source": [
    "def set_global_seed(s: int = seed):\n",
    "    random.seed(s)\n",
    "    np.random.seed(s)\n",
    "    torch.manual_seed(s)\n",
    "    torch.cuda.manual_seed_all(s)\n",
    "    torch.backends.cudnn.deterministic = True\n",
    "    torch.backends.cudnn.benchmark     = False\n",
    "    set_seed(s)\n",
    "\n",
    "def load_grpo_model_and_tokenizer(model_path: str, tokenizer_path: str, hf_token: str = None):\n",
    "    # 1) reset seed\n",
    "    set_global_seed()\n",
    "    # 2) tokenizer\n",
    "    tokenizer = AutoTokenizer.from_pretrained(\n",
    "        tokenizer_path,\n",
    "        use_auth_token=hf_token,\n",
    "        local_files_only=True\n",
    "    )\n",
    "    if tokenizer.pad_token is None:\n",
    "        tokenizer.pad_token = tokenizer.eos_token\n",
    "    tokenizer.padding_side = \"left\"\n",
    "    # 3) model (4-bit)\n",
    "    quant_config = BitsAndBytesConfig(\n",
    "        load_in_4bit=True,\n",
    "        bnb_4bit_compute_dtype=torch.bfloat16,\n",
    "        bnb_4bit_quant_type=\"nf4\",\n",
    "    )\n",
    "    model = AutoModelForCausalLM.from_pretrained(\n",
    "        model_path,\n",
    "        device_map=\"auto\",\n",
    "        quantization_config=quant_config,\n",
    "        low_cpu_mem_usage=True,\n",
    "        use_auth_token=hf_token,\n",
    "        local_files_only=True\n",
    "    )\n",
    "    model.config.use_cache = False\n",
    "    model.eval()\n",
    "    return tokenizer, model\n",
    "\n",
    "def generate_grpo_batch(tokenizer, model, prompts, max_new_tokens=256):\n",
    "    inputs = tokenizer(\n",
    "        prompts,\n",
    "        return_tensors=\"pt\",\n",
    "        padding=True,\n",
    "        truncation=True,\n",
    "        max_length=1792\n",
    "    ).to(model.device)\n",
    "    with torch.no_grad():\n",
    "        outputs = model.generate(\n",
    "            **inputs,\n",
    "            max_new_tokens=max_new_tokens,\n",
    "            do_sample=False,\n",
    "            pad_token_id=tokenizer.eos_token_id\n",
    "        )\n",
    "    decoded = tokenizer.batch_decode(outputs, skip_special_tokens=True)\n",
    "    return [\n",
    "        text[len(prompt):]#.split(\"\\n\", 1)[0]\n",
    "        for text, prompt in zip(decoded, prompts)\n",
    "    ]\n"
   ]
  },
  {
   "cell_type": "code",
   "execution_count": 4,
   "id": "ecc600a6",
   "metadata": {},
   "outputs": [],
   "source": [
    "set_global_seed()"
   ]
  },
  {
   "cell_type": "markdown",
   "id": "4cf425b3",
   "metadata": {},
   "source": [
    "## **Load Dataset**"
   ]
  },
  {
   "cell_type": "code",
   "execution_count": 5,
   "id": "e54f672b",
   "metadata": {},
   "outputs": [
    {
     "name": "stdout",
     "output_type": "stream",
     "text": [
      "Total examples: 340\n"
     ]
    },
    {
     "data": {
      "text/html": [
       "<div>\n",
       "<style scoped>\n",
       "    .dataframe tbody tr th:only-of-type {\n",
       "        vertical-align: middle;\n",
       "    }\n",
       "\n",
       "    .dataframe tbody tr th {\n",
       "        vertical-align: top;\n",
       "    }\n",
       "\n",
       "    .dataframe thead th {\n",
       "        text-align: right;\n",
       "    }\n",
       "</style>\n",
       "<table border=\"1\" class=\"dataframe\">\n",
       "  <thead>\n",
       "    <tr style=\"text-align: right;\">\n",
       "      <th></th>\n",
       "      <th>prompt</th>\n",
       "      <th>completion</th>\n",
       "    </tr>\n",
       "  </thead>\n",
       "  <tbody>\n",
       "    <tr>\n",
       "      <th>284</th>\n",
       "      <td>Anda adalah pakar regulasi keuangan Indonesia. Jawablah berdasarkan konteks yang disediakan; jika tidak terdapat pada konteks, jawab “Saya tidak tahu terkait {question}.”\\n\\nContext:\\nPasal 5 (1) Kontrak Investasi Kolektif DIRE Syariah, selain wajib memenuhi ketentuan yang diatur dalam peraturan perundang-undangan di sektor Pasar Modal yang mengatur mengenai Dana Investasi Real Estat berbentuk Kontrak Investasi Kolektif sebagaimana dimaksud dalam Pasal 4, wajib pula memuat ketentuan paling sedikit: a. Manajer Investasi dan Bank Kustodian merupakan wakil (wakiliin) yang bertindak untuk kepentingan para pemegang Unit Penyertaan DIRE Syariah berbentuk Kontrak Investasi Kolektif sebagai pihak yang diwakili (muwakil) dimana Manajer Investasi diberi wewenang untuk mengelola portofolio investasi kolektif dan Bank Kustodian diberi wewenang untuk melaksanakan Penitipan Kolektif; b. aset Real Estat, Aset Yang Berkaitan Dengan Real Estat, dan/atau kas dan setara kas tidak bertentangan dengan Prinsip Syariah di Pasar Modal; c. mekanisme pembersihan aset Real Estat, Aset Yang Berkaitan Dengan Real Estat, dan/atau kas dan setara kas dari unsur yang bertentangan dengan\\n\\nQuestion: Apa saja ketentuan minimal yang harus dimuat dalam Kontrak Investasi Kolektif DIRE Syariah?\\nAnswer:</td>\n",
       "      <td>Mekanisme proses dijelaskan sebagai Manajer Investasi dan Bank Kustodian sebagai wakil, aset tidak bertentangan dengan Prinsip Syariah, mekanisme pembersihan aset, kata 'Syariah' pada nama, akad syariah dan skema transaksi, ringkasan akad, besarnya nisbah pembayaran, dan rencana jadwal serta tata cara pembagian hasil.</td>\n",
       "    </tr>\n",
       "    <tr>\n",
       "      <th>116</th>\n",
       "      <td>Anda adalah pakar regulasi keuangan Indonesia. Jawablah berdasarkan konteks yang disediakan; jika tidak terdapat pada konteks, jawab “Saya tidak tahu terkait {question}.”\\n\\nContext:\\n6. \\nPeminjam adalah nasabah perorangan, perusahaan, atau \\nbadan yang memperoleh Penyediaan Dana dari Bank, \\ntermasuk: \\na. \\ndebitur, untuk Penyediaan Dana berupa kredit atau \\npembiayaan; \\nb. \\npenerbit surat berharga, pihak yang menjual surat \\nberharga, \\nmanajer \\ninvestasi \\nkontrak \\ninvestasi \\nkolektif, \\ndan/atau \\nentitas \\nreferensi  \\n(reference entity), untuk Penyediaan Dana berupa \\nsurat berharga; \\nc. \\npihak yang mengalihkan risiko kredit (protection \\nbuyer) dan/atau entitas referensi (reference entity), \\nuntuk Penyediaan Dana berupa derivatif kredit  \\n(credit derivatives); \\nd. \\npemohon (applicant), untuk Penyediaan Dana berupa \\njaminan (guarantee), letter of credit, standby letter of \\ncredit, atau instrumen serupa lain; \\ne. \\npihak tempat Bank melakukan penyertaan modal \\n(investee), \\nuntuk \\nPenyediaan \\nDana \\nberupa \\npenyertaan modal; \\nf. \\nBank atau debitur, untuk Penyediaan Dana berupa \\ntagihan akseptasi; \\ng. \\npihak \\nlawan \\ntransaksi \\n(counterparty), \\nuntuk \\nPenyediaan Dana berupa penempatan dan transaksi \\nderivatif; dan/atau \\nh. \\npihak lain yang wajib melunasi tagihan kepada Bank.\\n\\nQuestion: Siapa saja yang termasuk dalam definisi Peminjam menurut dokumen ini?\\nAnswer:</td>\n",
       "      <td>Dokumen ini mencakup nasabah perorangan, perusahaan, atau badan yang memperoleh Penyediaan Dana dari Bank sebagai Peminjam.</td>\n",
       "    </tr>\n",
       "    <tr>\n",
       "      <th>113</th>\n",
       "      <td>Anda adalah pakar regulasi keuangan Indonesia. Jawablah berdasarkan konteks yang disediakan; jika tidak terdapat pada konteks, jawab “Saya tidak tahu terkait {question}.”\\n\\nContext:\\nPasal 3 (1) Setiap Pihak yang melanggar ketentuan sebagaimana dimaksud dalam Pasal 2 ayat (2), dikenakan sanksi administratif. (2) Sanksi sebagaimana dimaksud pada ayat (1) dikenakan juga kepada Pihak yang menyebabkan terjadinya pelanggaran sebagaimana dimaksud pada ayat (1). (3) Sanksi sebagaimana dimaksud pada ayat (1) dan ayat (2) dijatuhkan oleh Otoritas jasa Keuangan. (4) Sanksi administratif sebagaimana dimaksud pada ayat (1) berupa: a. peringatan tertulis; b.  denda yaitu kewajiban untuk membayar sejumlah uang tertentu; c.  pembatasan kegiatan usaha; d.  pembekuan kegiatan usaha; e.  pencabutan izin usaha; f.  pembatalan persetujuan; dan/atau g. pembatalan pendaftaran. (5) Tata cara pengenaan sanksi sebagaimana dimaksud pada ayat (3) dilakukan sesuai dengan ketentuan peraturan perundang-undangan. (6) Sanksi administratif sebagaimana dimaksud pada ayat (4) huruf b, huruf c, huruf d, huruf e, huruf f, atau huruf g dapat dikenakan dengan atau tanpa didahului\\n\\nQuestion: Apa masa berlaku sanksi administratif pada Pasal 3?\\nAnswer:</td>\n",
       "      <td>Saya tidak tahu terkait masa berlaku sanksi administratif pada Pasal 3.</td>\n",
       "    </tr>\n",
       "  </tbody>\n",
       "</table>\n",
       "</div>"
      ],
      "text/plain": [
       "                                                                                                                                                                                                                                                                                                                                                                                                                                                                                                                                                                                                                                                                                                                                                                                                                                                                                                                                                                                                                                                                                                                                                                                                                                                                                                                                                                                                                                                                              prompt  \\\n",
       "284                                                                                                                                           Anda adalah pakar regulasi keuangan Indonesia. Jawablah berdasarkan konteks yang disediakan; jika tidak terdapat pada konteks, jawab “Saya tidak tahu terkait {question}.”\\n\\nContext:\\nPasal 5 (1) Kontrak Investasi Kolektif DIRE Syariah, selain wajib memenuhi ketentuan yang diatur dalam peraturan perundang-undangan di sektor Pasar Modal yang mengatur mengenai Dana Investasi Real Estat berbentuk Kontrak Investasi Kolektif sebagaimana dimaksud dalam Pasal 4, wajib pula memuat ketentuan paling sedikit: a. Manajer Investasi dan Bank Kustodian merupakan wakil (wakiliin) yang bertindak untuk kepentingan para pemegang Unit Penyertaan DIRE Syariah berbentuk Kontrak Investasi Kolektif sebagai pihak yang diwakili (muwakil) dimana Manajer Investasi diberi wewenang untuk mengelola portofolio investasi kolektif dan Bank Kustodian diberi wewenang untuk melaksanakan Penitipan Kolektif; b. aset Real Estat, Aset Yang Berkaitan Dengan Real Estat, dan/atau kas dan setara kas tidak bertentangan dengan Prinsip Syariah di Pasar Modal; c. mekanisme pembersihan aset Real Estat, Aset Yang Berkaitan Dengan Real Estat, dan/atau kas dan setara kas dari unsur yang bertentangan dengan\\n\\nQuestion: Apa saja ketentuan minimal yang harus dimuat dalam Kontrak Investasi Kolektif DIRE Syariah?\\nAnswer:   \n",
       "116  Anda adalah pakar regulasi keuangan Indonesia. Jawablah berdasarkan konteks yang disediakan; jika tidak terdapat pada konteks, jawab “Saya tidak tahu terkait {question}.”\\n\\nContext:\\n6. \\nPeminjam adalah nasabah perorangan, perusahaan, atau \\nbadan yang memperoleh Penyediaan Dana dari Bank, \\ntermasuk: \\na. \\ndebitur, untuk Penyediaan Dana berupa kredit atau \\npembiayaan; \\nb. \\npenerbit surat berharga, pihak yang menjual surat \\nberharga, \\nmanajer \\ninvestasi \\nkontrak \\ninvestasi \\nkolektif, \\ndan/atau \\nentitas \\nreferensi  \\n(reference entity), untuk Penyediaan Dana berupa \\nsurat berharga; \\nc. \\npihak yang mengalihkan risiko kredit (protection \\nbuyer) dan/atau entitas referensi (reference entity), \\nuntuk Penyediaan Dana berupa derivatif kredit  \\n(credit derivatives); \\nd. \\npemohon (applicant), untuk Penyediaan Dana berupa \\njaminan (guarantee), letter of credit, standby letter of \\ncredit, atau instrumen serupa lain; \\ne. \\npihak tempat Bank melakukan penyertaan modal \\n(investee), \\nuntuk \\nPenyediaan \\nDana \\nberupa \\npenyertaan modal; \\nf. \\nBank atau debitur, untuk Penyediaan Dana berupa \\ntagihan akseptasi; \\ng. \\npihak \\nlawan \\ntransaksi \\n(counterparty), \\nuntuk \\nPenyediaan Dana berupa penempatan dan transaksi \\nderivatif; dan/atau \\nh. \\npihak lain yang wajib melunasi tagihan kepada Bank.\\n\\nQuestion: Siapa saja yang termasuk dalam definisi Peminjam menurut dokumen ini?\\nAnswer:   \n",
       "113                                                                                                                                                                                               Anda adalah pakar regulasi keuangan Indonesia. Jawablah berdasarkan konteks yang disediakan; jika tidak terdapat pada konteks, jawab “Saya tidak tahu terkait {question}.”\\n\\nContext:\\nPasal 3 (1) Setiap Pihak yang melanggar ketentuan sebagaimana dimaksud dalam Pasal 2 ayat (2), dikenakan sanksi administratif. (2) Sanksi sebagaimana dimaksud pada ayat (1) dikenakan juga kepada Pihak yang menyebabkan terjadinya pelanggaran sebagaimana dimaksud pada ayat (1). (3) Sanksi sebagaimana dimaksud pada ayat (1) dan ayat (2) dijatuhkan oleh Otoritas jasa Keuangan. (4) Sanksi administratif sebagaimana dimaksud pada ayat (1) berupa: a. peringatan tertulis; b.  denda yaitu kewajiban untuk membayar sejumlah uang tertentu; c.  pembatasan kegiatan usaha; d.  pembekuan kegiatan usaha; e.  pencabutan izin usaha; f.  pembatalan persetujuan; dan/atau g. pembatalan pendaftaran. (5) Tata cara pengenaan sanksi sebagaimana dimaksud pada ayat (3) dilakukan sesuai dengan ketentuan peraturan perundang-undangan. (6) Sanksi administratif sebagaimana dimaksud pada ayat (4) huruf b, huruf c, huruf d, huruf e, huruf f, atau huruf g dapat dikenakan dengan atau tanpa didahului\\n\\nQuestion: Apa masa berlaku sanksi administratif pada Pasal 3?\\nAnswer:   \n",
       "\n",
       "                                                                                                                                                                                                                                                                                                                           completion  \n",
       "284   Mekanisme proses dijelaskan sebagai Manajer Investasi dan Bank Kustodian sebagai wakil, aset tidak bertentangan dengan Prinsip Syariah, mekanisme pembersihan aset, kata 'Syariah' pada nama, akad syariah dan skema transaksi, ringkasan akad, besarnya nisbah pembayaran, dan rencana jadwal serta tata cara pembagian hasil.  \n",
       "116                                                                                                                                                                                                       Dokumen ini mencakup nasabah perorangan, perusahaan, atau badan yang memperoleh Penyediaan Dana dari Bank sebagai Peminjam.  \n",
       "113                                                                                                                                                                                                                                                           Saya tidak tahu terkait masa berlaku sanksi administratif pada Pasal 3.  "
      ]
     },
     "execution_count": 5,
     "metadata": {},
     "output_type": "execute_result"
    }
   ],
   "source": [
    "df = pd.read_json(DATASET_PATH, lines=True)\n",
    "print(f\"Total examples: {len(df)}\")\n",
    "df.sample(3)"
   ]
  },
  {
   "cell_type": "markdown",
   "id": "7207d3f2",
   "metadata": {},
   "source": [
    "## **Prepare Metrics**"
   ]
  },
  {
   "cell_type": "code",
   "execution_count": 6,
   "id": "73a767dc",
   "metadata": {},
   "outputs": [
    {
     "name": "stderr",
     "output_type": "stream",
     "text": [
      "Using the latest cached version of the module from /home/llmsosmed/.cache/huggingface/modules/evaluate_modules/metrics/evaluate-metric--exact_match/9d3b67e0c429cd7460b2b05aab53419b48eea369b73e1d9f185a56ca90c373d4 (last modified on Thu May  1 04:40:13 2025) since it couldn't be found locally at evaluate-metric--exact_match, or remotely on the Hugging Face Hub.\n",
      "Using the latest cached version of the module from /home/llmsosmed/.cache/huggingface/modules/evaluate_modules/metrics/evaluate-metric--rouge/b01e0accf3bd6dd24839b769a5fda24e14995071570870922c71970b3a6ed886 (last modified on Thu May  1 04:40:15 2025) since it couldn't be found locally at evaluate-metric--rouge, or remotely on the Hugging Face Hub.\n",
      "Using the latest cached version of the module from /home/llmsosmed/.cache/huggingface/modules/evaluate_modules/metrics/evaluate-metric--bleu/9e0985c1200e367cce45605ce0ecb5ede079894e0f24f54613fca08eeb8aff76 (last modified on Thu May  1 04:40:19 2025) since it couldn't be found locally at evaluate-metric--bleu, or remotely on the Hugging Face Hub.\n",
      "Using the latest cached version of the module from /home/llmsosmed/.cache/huggingface/modules/evaluate_modules/metrics/evaluate-metric--meteor/e7ed321a1b44c34fa4679192809db2cee7e3bd4bba0fe8b76061d807706c2374 (last modified on Thu May  1 04:40:22 2025) since it couldn't be found locally at evaluate-metric--meteor, or remotely on the Hugging Face Hub.\n",
      "[nltk_data] Error loading wordnet: <urlopen error Tunnel connection\n",
      "[nltk_data]     failed: 407 Proxy Authentication Required>\n",
      "[nltk_data] Error loading punkt_tab: <urlopen error Tunnel connection\n",
      "[nltk_data]     failed: 407 Proxy Authentication Required>\n",
      "[nltk_data] Error loading omw-1.4: <urlopen error Tunnel connection\n",
      "[nltk_data]     failed: 407 Proxy Authentication Required>\n"
     ]
    }
   ],
   "source": [
    "if not os.path.exists(METRICS_FILE):\n",
    "    pd.DataFrame(columns=[\n",
    "        \"model\",\"exact_match\",\"rouge1_f1\",\"rouge2_f1\",\"rougeL_f1\",\n",
    "        \"bleu\",\"meteor\",\"inference_time_sec\"\n",
    "    ]).to_csv(METRICS_FILE, index=False)\n",
    "\n",
    "# load evaluators\n",
    "em    = evaluate.load(\"exact_match\")\n",
    "rouge = evaluate.load(\"rouge\")\n",
    "bleu  = evaluate.load(\"bleu\")\n",
    "meteor= evaluate.load(\"meteor\")"
   ]
  },
  {
   "cell_type": "markdown",
   "id": "f47c4046",
   "metadata": {},
   "source": [
    "## **Inference & Evaluation**"
   ]
  },
  {
   "cell_type": "code",
   "execution_count": 7,
   "id": "2a1ddc50",
   "metadata": {},
   "outputs": [
    {
     "name": "stdout",
     "output_type": "stream",
     "text": [
      "\n",
      "▶ Evaluating GRPO SeaLLMs-v3-7B\n"
     ]
    },
    {
     "name": "stderr",
     "output_type": "stream",
     "text": [
      "Sliding Window Attention is enabled but not implemented for `sdpa`; unexpected results may be encountered.\n",
      "Loading checkpoint shards: 100%|██████████| 7/7 [00:16<00:00,  2.42s/it]\n"
     ]
    },
    {
     "name": "stdout",
     "output_type": "stream",
     "text": [
      "=== LoRA weights for SeaLLMs-v3-7B ===\n",
      "model.layers.0.self_attn.q_proj.lora_A.default.weight 1.1820874214172363\n",
      "model.layers.0.self_attn.q_proj.lora_B.default.weight 0.18304795026779175\n",
      "model.layers.0.self_attn.v_proj.lora_A.default.weight 1.1797327995300293\n",
      "model.layers.0.self_attn.v_proj.lora_B.default.weight 0.07393047958612442\n",
      "model.layers.1.self_attn.q_proj.lora_A.default.weight 1.1699531078338623\n",
      "model.layers.1.self_attn.q_proj.lora_B.default.weight 0.17611859738826752\n",
      "model.layers.1.self_attn.v_proj.lora_A.default.weight 1.1820757389068604\n",
      "model.layers.1.self_attn.v_proj.lora_B.default.weight 0.07342543452978134\n",
      "model.layers.2.self_attn.q_proj.lora_A.default.weight 1.174915075302124\n",
      "model.layers.2.self_attn.q_proj.lora_B.default.weight 0.1765214502811432\n",
      "model.layers.2.self_attn.v_proj.lora_A.default.weight 1.183349370956421\n",
      "model.layers.2.self_attn.v_proj.lora_B.default.weight 0.07287339866161346\n",
      "model.layers.3.self_attn.q_proj.lora_A.default.weight 1.1831012964248657\n",
      "model.layers.3.self_attn.q_proj.lora_B.default.weight 0.18143565952777863\n",
      "model.layers.3.self_attn.v_proj.lora_A.default.weight 1.179585337638855\n",
      "model.layers.3.self_attn.v_proj.lora_B.default.weight 0.07512789219617844\n",
      "model.layers.4.self_attn.q_proj.lora_A.default.weight 1.181820273399353\n",
      "model.layers.4.self_attn.q_proj.lora_B.default.weight 0.16068021953105927\n",
      "model.layers.4.self_attn.v_proj.lora_A.default.weight 1.1809887886047363\n",
      "model.layers.4.self_attn.v_proj.lora_B.default.weight 0.07395616918802261\n",
      "model.layers.5.self_attn.q_proj.lora_A.default.weight 1.1759705543518066\n",
      "model.layers.5.self_attn.q_proj.lora_B.default.weight 0.1687541902065277\n",
      "model.layers.5.self_attn.v_proj.lora_A.default.weight 1.1829640865325928\n",
      "model.layers.5.self_attn.v_proj.lora_B.default.weight 0.07402604073286057\n",
      "model.layers.6.self_attn.q_proj.lora_A.default.weight 1.178688645362854\n",
      "model.layers.6.self_attn.q_proj.lora_B.default.weight 0.18206414580345154\n",
      "model.layers.6.self_attn.v_proj.lora_A.default.weight 1.1732497215270996\n",
      "model.layers.6.self_attn.v_proj.lora_B.default.weight 0.07265811413526535\n",
      "model.layers.7.self_attn.q_proj.lora_A.default.weight 1.1818045377731323\n",
      "model.layers.7.self_attn.q_proj.lora_B.default.weight 0.18125344812870026\n",
      "model.layers.7.self_attn.v_proj.lora_A.default.weight 1.184544563293457\n",
      "model.layers.7.self_attn.v_proj.lora_B.default.weight 0.07439348101615906\n",
      "model.layers.8.self_attn.q_proj.lora_A.default.weight 1.1853151321411133\n",
      "model.layers.8.self_attn.q_proj.lora_B.default.weight 0.178592711687088\n",
      "model.layers.8.self_attn.v_proj.lora_A.default.weight 1.1870230436325073\n",
      "model.layers.8.self_attn.v_proj.lora_B.default.weight 0.07495441287755966\n",
      "model.layers.9.self_attn.q_proj.lora_A.default.weight 1.1833504438400269\n",
      "model.layers.9.self_attn.q_proj.lora_B.default.weight 0.18044331669807434\n",
      "model.layers.9.self_attn.v_proj.lora_A.default.weight 1.1759192943572998\n",
      "model.layers.9.self_attn.v_proj.lora_B.default.weight 0.07282055169343948\n",
      "model.layers.10.self_attn.q_proj.lora_A.default.weight 1.1846526861190796\n",
      "model.layers.10.self_attn.q_proj.lora_B.default.weight 0.17833754420280457\n",
      "model.layers.10.self_attn.v_proj.lora_A.default.weight 1.187894344329834\n",
      "model.layers.10.self_attn.v_proj.lora_B.default.weight 0.07357489317655563\n",
      "model.layers.11.self_attn.q_proj.lora_A.default.weight 1.180067539215088\n",
      "model.layers.11.self_attn.q_proj.lora_B.default.weight 0.18381620943546295\n",
      "model.layers.11.self_attn.v_proj.lora_A.default.weight 1.184164047241211\n",
      "model.layers.11.self_attn.v_proj.lora_B.default.weight 0.07563658058643341\n",
      "model.layers.12.self_attn.q_proj.lora_A.default.weight 1.1780089139938354\n",
      "model.layers.12.self_attn.q_proj.lora_B.default.weight 0.18815523386001587\n",
      "model.layers.12.self_attn.v_proj.lora_A.default.weight 1.1766120195388794\n",
      "model.layers.12.self_attn.v_proj.lora_B.default.weight 0.0770069807767868\n",
      "model.layers.13.self_attn.q_proj.lora_A.default.weight 1.186127781867981\n",
      "model.layers.13.self_attn.q_proj.lora_B.default.weight 0.1998484581708908\n",
      "model.layers.13.self_attn.v_proj.lora_A.default.weight 1.1832751035690308\n",
      "model.layers.13.self_attn.v_proj.lora_B.default.weight 0.07743711769580841\n",
      "model.layers.14.self_attn.q_proj.lora_A.default.weight 1.183455228805542\n",
      "model.layers.14.self_attn.q_proj.lora_B.default.weight 0.1816783845424652\n",
      "model.layers.14.self_attn.v_proj.lora_A.default.weight 1.1809197664260864\n",
      "model.layers.14.self_attn.v_proj.lora_B.default.weight 0.07763706892728806\n",
      "model.layers.15.self_attn.q_proj.lora_A.default.weight 1.1812490224838257\n",
      "model.layers.15.self_attn.q_proj.lora_B.default.weight 0.20344778895378113\n",
      "model.layers.15.self_attn.v_proj.lora_A.default.weight 1.187356948852539\n",
      "model.layers.15.self_attn.v_proj.lora_B.default.weight 0.076016366481781\n",
      "model.layers.16.self_attn.q_proj.lora_A.default.weight 1.1831886768341064\n",
      "model.layers.16.self_attn.q_proj.lora_B.default.weight 0.19509778916835785\n",
      "model.layers.16.self_attn.v_proj.lora_A.default.weight 1.1765836477279663\n",
      "model.layers.16.self_attn.v_proj.lora_B.default.weight 0.07788670063018799\n",
      "model.layers.17.self_attn.q_proj.lora_A.default.weight 1.1873340606689453\n",
      "model.layers.17.self_attn.q_proj.lora_B.default.weight 0.18867187201976776\n",
      "model.layers.17.self_attn.v_proj.lora_A.default.weight 1.183982014656067\n",
      "model.layers.17.self_attn.v_proj.lora_B.default.weight 0.07903215289115906\n",
      "model.layers.18.self_attn.q_proj.lora_A.default.weight 1.189712405204773\n",
      "model.layers.18.self_attn.q_proj.lora_B.default.weight 0.19590723514556885\n",
      "model.layers.18.self_attn.v_proj.lora_A.default.weight 1.1869949102401733\n",
      "model.layers.18.self_attn.v_proj.lora_B.default.weight 0.0809866189956665\n",
      "model.layers.19.self_attn.q_proj.lora_A.default.weight 1.1837713718414307\n",
      "model.layers.19.self_attn.q_proj.lora_B.default.weight 0.1963391751050949\n",
      "model.layers.19.self_attn.v_proj.lora_A.default.weight 1.188039779663086\n",
      "model.layers.19.self_attn.v_proj.lora_B.default.weight 0.08151494711637497\n",
      "model.layers.20.self_attn.q_proj.lora_A.default.weight 1.1825613975524902\n",
      "model.layers.20.self_attn.q_proj.lora_B.default.weight 0.1926376223564148\n",
      "model.layers.20.self_attn.v_proj.lora_A.default.weight 1.1785157918930054\n",
      "model.layers.20.self_attn.v_proj.lora_B.default.weight 0.08128555864095688\n",
      "model.layers.21.self_attn.q_proj.lora_A.default.weight 1.1807596683502197\n",
      "model.layers.21.self_attn.q_proj.lora_B.default.weight 0.19619178771972656\n",
      "model.layers.21.self_attn.v_proj.lora_A.default.weight 1.180081844329834\n",
      "model.layers.21.self_attn.v_proj.lora_B.default.weight 0.0803404226899147\n",
      "model.layers.22.self_attn.q_proj.lora_A.default.weight 1.1789207458496094\n",
      "model.layers.22.self_attn.q_proj.lora_B.default.weight 0.1809229701757431\n",
      "model.layers.22.self_attn.v_proj.lora_A.default.weight 1.1817623376846313\n",
      "model.layers.22.self_attn.v_proj.lora_B.default.weight 0.07815918326377869\n",
      "model.layers.23.self_attn.q_proj.lora_A.default.weight 1.1833635568618774\n",
      "model.layers.23.self_attn.q_proj.lora_B.default.weight 0.19444705545902252\n",
      "model.layers.23.self_attn.v_proj.lora_A.default.weight 1.1887791156768799\n",
      "model.layers.23.self_attn.v_proj.lora_B.default.weight 0.08038853108882904\n",
      "model.layers.24.self_attn.q_proj.lora_A.default.weight 1.1817957162857056\n",
      "model.layers.24.self_attn.q_proj.lora_B.default.weight 0.19967395067214966\n",
      "model.layers.24.self_attn.v_proj.lora_A.default.weight 1.1789965629577637\n",
      "model.layers.24.self_attn.v_proj.lora_B.default.weight 0.08307439088821411\n",
      "model.layers.25.self_attn.q_proj.lora_A.default.weight 1.1814956665039062\n",
      "model.layers.25.self_attn.q_proj.lora_B.default.weight 0.18960145115852356\n",
      "model.layers.25.self_attn.v_proj.lora_A.default.weight 1.187662124633789\n",
      "model.layers.25.self_attn.v_proj.lora_B.default.weight 0.08197848498821259\n",
      "model.layers.26.self_attn.q_proj.lora_A.default.weight 1.182891845703125\n",
      "model.layers.26.self_attn.q_proj.lora_B.default.weight 0.17202220857143402\n",
      "model.layers.26.self_attn.v_proj.lora_A.default.weight 1.1833522319793701\n",
      "model.layers.26.self_attn.v_proj.lora_B.default.weight 0.07993613183498383\n",
      "model.layers.27.self_attn.q_proj.lora_A.default.weight 1.1886191368103027\n",
      "model.layers.27.self_attn.q_proj.lora_B.default.weight 0.17427971959114075\n",
      "model.layers.27.self_attn.v_proj.lora_A.default.weight 1.1853615045547485\n",
      "model.layers.27.self_attn.v_proj.lora_B.default.weight 0.08271574229001999\n",
      "==============================\n"
     ]
    },
    {
     "name": "stderr",
     "output_type": "stream",
     "text": [
      "SeaLLMs-v3-7B: 100%|██████████| 3/3 [03:17<00:00, 65.83s/it]\n"
     ]
    },
    {
     "name": "stdout",
     "output_type": "stream",
     "text": [
      "→ Inference time: 197.5 sec\n"
     ]
    }
   ],
   "source": [
    "for model_key, grpo_path in MODEL_NAMES.items():\n",
    "    print(f\"\\n▶ Evaluating GRPO {model_key}\")\n",
    "    tokenizer_dir = os.path.join(CACHE_FOLDER, model_key)\n",
    "    tokenizer, model = load_grpo_model_and_tokenizer(grpo_path, tokenizer_dir, hf_token=os.getenv(\"HF_TOKEN\"))\n",
    "\n",
    "    # —– Cetak statistik bobot LoRA\n",
    "    print(\"=== LoRA weights for\", model_key, \"===\")\n",
    "    for name, param in model.named_parameters():\n",
    "        if \"lora\" in name:\n",
    "            print(name, param.norm().item()) \n",
    "    print(\"=\"*30)\n",
    "    \n",
    "    # warm-up\n",
    "    _ = model.generate(\n",
    "        **tokenizer(\"Warm up\", return_tensors=\"pt\").to(model.device),\n",
    "        max_new_tokens=1,\n",
    "        pad_token_id=tokenizer.eos_token_id\n",
    "    )\n",
    "\n",
    "    preds, refs, details = [], [], []\n",
    "    start = time.time()\n",
    "\n",
    "    for i in tqdm(range(0, len(df), BATCH_SIZE), desc=model_key):\n",
    "        batch = df.iloc[i : i + BATCH_SIZE]\n",
    "        prompts = batch[\"prompt\"].tolist()\n",
    "        batch_preds = generate_grpo_batch(tokenizer, model, prompts)\n",
    "\n",
    "        preds.extend(batch_preds)\n",
    "        refs.extend(batch[\"completion\"].tolist())\n",
    "\n",
    "        for prompt, ref, pred in zip(prompts, batch[\"completion\"], batch_preds):\n",
    "            details.append({\n",
    "                \"prompt\":       prompt,\n",
    "                \"ground_truth\": ref,\n",
    "                model_key:      pred\n",
    "            })\n",
    "\n",
    "    inf_time = time.time() - start\n",
    "    print(f\"→ Inference time: {inf_time:.1f} sec\")\n",
    "\n",
    "    # compute metrics\n",
    "    r_em  = em.compute(predictions=preds, references=refs)[\"exact_match\"]\n",
    "    r_rog = rouge.compute(predictions=preds, references=refs)\n",
    "    r_ble = bleu.compute(predictions=preds, references=[[r] for r in refs])[\"bleu\"]\n",
    "    r_met = meteor.compute(predictions=preds, references=refs)[\"meteor\"]\n",
    "\n",
    "    # append to CSV\n",
    "    row = {\n",
    "        \"model\":             model_key,\n",
    "        \"exact_match\":       r_em,\n",
    "        \"rouge1_f1\":         r_rog[\"rouge1\"],\n",
    "        \"rouge2_f1\":         r_rog[\"rouge2\"],\n",
    "        \"rougeL_f1\":         r_rog[\"rougeL\"],\n",
    "        \"bleu\":              r_ble,\n",
    "        \"meteor\":            r_met,\n",
    "        \"inference_time_sec\": inf_time\n",
    "    }\n",
    "    pd.DataFrame([row]).to_csv(METRICS_FILE, mode=\"a\", header=False, index=False)\n",
    "\n",
    "    # save detailed\n",
    "    pd.DataFrame(details).to_json(\n",
    "        f\"grpo_detailed_{model_key}.jsonl\",\n",
    "        orient=\"records\", lines=True\n",
    "    )\n",
    "\n",
    "    # cleanup\n",
    "    del model, tokenizer\n",
    "    torch.cuda.empty_cache()\n",
    "    gc.collect()\n"
   ]
  },
  {
   "cell_type": "markdown",
   "id": "3048e513",
   "metadata": {},
   "source": [
    "## **Results**"
   ]
  },
  {
   "cell_type": "code",
   "execution_count": 8,
   "id": "ac7bc327",
   "metadata": {},
   "outputs": [
    {
     "name": "stdout",
     "output_type": "stream",
     "text": [
      "| model         |   exact_match |   rouge1_f1 |   rouge2_f1 |   rougeL_f1 |     bleu |   meteor |   inference_time_sec |\n",
      "|:--------------|--------------:|------------:|------------:|------------:|---------:|---------:|---------------------:|\n",
      "| SeaLLMs-v3-7B |      0.111765 |    0.492021 |    0.416719 |    0.469391 | 0.169708 | 0.594959 |              200.588 |\n",
      "| SeaLLMs-v3-7B |      0.120588 |    0.498852 |    0.423255 |    0.476282 | 0.173534 | 0.599326 |              197.237 |\n",
      "| SeaLLMs-v3-7B |      0.229412 |    0.659841 |    0.582269 |    0.647082 | 0.313971 | 0.724923 |              197.494 |\n"
     ]
    }
   ],
   "source": [
    "dfm = pd.read_csv(METRICS_FILE)\n",
    "print(dfm.to_markdown(index=False))"
   ]
  },
  {
   "cell_type": "code",
   "execution_count": 9,
   "id": "4ca3a27f",
   "metadata": {},
   "outputs": [
    {
     "name": "stdout",
     "output_type": "stream",
     "text": [
      "Total rows in merged DataFrame: 340\n"
     ]
    },
    {
     "data": {
      "text/html": [
       "<div>\n",
       "<style scoped>\n",
       "    .dataframe tbody tr th:only-of-type {\n",
       "        vertical-align: middle;\n",
       "    }\n",
       "\n",
       "    .dataframe tbody tr th {\n",
       "        vertical-align: top;\n",
       "    }\n",
       "\n",
       "    .dataframe thead th {\n",
       "        text-align: right;\n",
       "    }\n",
       "</style>\n",
       "<table border=\"1\" class=\"dataframe\">\n",
       "  <thead>\n",
       "    <tr style=\"text-align: right;\">\n",
       "      <th></th>\n",
       "      <th>prompt</th>\n",
       "      <th>ground_truth</th>\n",
       "      <th>pred_grpo_SeaLLMs-v3-7B</th>\n",
       "    </tr>\n",
       "  </thead>\n",
       "  <tbody>\n",
       "    <tr>\n",
       "      <th>0</th>\n",
       "      <td>Anda adalah pakar regulasi keuangan Indonesia. Jawablah berdasarkan konteks yang disediakan; jika tidak terdapat pada konteks, jawab “Saya tidak tahu terkait {question}.”\\n\\nContext:\\nKerangka Tata Kelola sebagaimana dimaksud dalam Pasal 28 ayat (1) huruf pelaksanaan fungsi kepatuhan, fungsi audit intern, dan pelaksanaan sebagaimana dimaksud pada ayat (1) huruf b, huruf d, dan huruf h sebagaimana dimaksud dalam Pasal 30 ayat (1) huruf a, serta calon Dewan Pengawas Syariah sebagaimana dimaksud dalam Pasal 30 ayat (1) huruf b paling Pasal ... a. persyaratan calon anggota Direksi dan calon anggota Dewan Komisaris; tugas dan tanggung jawab Satuan Kerja Audit Intern Terintegrasi; dan pelaksanaan fungsi pengawasan oleh Dewan Komisaris; persyaratan calon anggota Dewan Pengawas Syariah; independensi tindakan Dewan Komisaris; struktur Direksi dan Dewan Komisaris; pelaksanaan fungsi manajemen risiko; Pasal 30 Pasal 31 - 12 - struktur Dewan Pengawas Syariah;  pengelolaan benturan kepentingan. kebijakan remunerasi; dan b memuat paling sedikit: audit ekstern; Entitas Utama; Syariah.\\n\\nQuestion: Apa saja yang harus dimuat dalam kerangka Tata Kelola menurut Pasal 30?\\nAnswer:</td>\n",
       "      <td>Perubahan yang diatur mencakup persyaratan calon anggota Direksi, Dewan Komisaris, Dewan Pengawas Syariah, tugas audit intern, pengawasan, manajemen risiko, dan kebijakan remunerasi.</td>\n",
       "      <td>Menurut konteks yang disediakan, tidak terdapat informasi tentang apa saja yang harus dimuat dalam kerangka Tata Kelola menurut Pasal 30. Oleh karena itu, jawaban saya adalah \"Saya tidak tahu terkait apa saja yang harus dimuat dalam kerangka Tata Kelola menurut Pasal 30.\"</td>\n",
       "    </tr>\n",
       "    <tr>\n",
       "      <th>1</th>\n",
       "      <td>Anda adalah pakar regulasi keuangan Indonesia. Jawablah berdasarkan konteks yang disediakan; jika tidak terdapat pada konteks, jawab “Saya tidak tahu terkait {question}.”\\n\\nContext:\\nKerangka Tata Kelola sebagaimana dimaksud dalam Pasal 28 ayat (1) huruf pelaksanaan fungsi kepatuhan, fungsi audit intern, dan pelaksanaan sebagaimana dimaksud pada ayat (1) huruf b, huruf d, dan huruf h sebagaimana dimaksud dalam Pasal 30 ayat (1) huruf a, serta calon Dewan Pengawas Syariah sebagaimana dimaksud dalam Pasal 30 ayat (1) huruf b paling Pasal ... a. persyaratan calon anggota Direksi dan calon anggota Dewan Komisaris; tugas dan tanggung jawab Satuan Kerja Audit Intern Terintegrasi; dan pelaksanaan fungsi pengawasan oleh Dewan Komisaris; persyaratan calon anggota Dewan Pengawas Syariah; independensi tindakan Dewan Komisaris; struktur Direksi dan Dewan Komisaris; pelaksanaan fungsi manajemen risiko; Pasal 30 Pasal 31 - 12 - struktur Dewan Pengawas Syariah;  pengelolaan benturan kepentingan. kebijakan remunerasi; dan b memuat paling sedikit: audit ekstern; Entitas Utama; Syariah.\\n\\nQuestion: Bagaimana mekanisme pelaporan audit ekstern menurut segmen ini?\\nAnswer:</td>\n",
       "      <td>Saya tidak tahu terkait mekanisme pelaporan audit ekstern menurut segmen ini.</td>\n",
       "      <td>Saya tidak tahu terkait bagaimana mekanisme pelaporan audit ekstern menurut segmen ini.</td>\n",
       "    </tr>\n",
       "    <tr>\n",
       "      <th>2</th>\n",
       "      <td>Anda adalah pakar regulasi keuangan Indonesia. Jawablah berdasarkan konteks yang disediakan; jika tidak terdapat pada konteks, jawab “Saya tidak tahu terkait {question}.”\\n\\nContext:\\nPasal 28 \\n\\n(1) Lembaga Penjaminan wajib menyampaikan laporan bulanan secara lengkap dan benar kepada Otoritas Jasa Keuangan.  \\n\\n\\n(2) Ketentuan mengenai bentuk, susunan dan penyampaian laporan bulanan diatur dalam Peraturan Otoritas Jasa Keuangan mengenai Laporan Bulanan Industri Keuangan Non Bank.\\n\\nQuestion: Apa mekanisme pelaporan bulanan bagi Lembaga Penjaminan menurut Pasal 28?\\nAnswer:</td>\n",
       "      <td>Mekanisme pelaporan dijelaskan sebagai kewajiban menyampaikan laporan bulanan lengkap dan benar kepada Otoritas Jasa Keuangan.</td>\n",
       "      <td>Mekanisme pelaporan bulanan bagi Lembaga Penjaminan menurut Pasal 28 adalah menyampaikan laporan bulanan secara lengkap dan benar kepada Otoritas Jasa Keuangan. Selanjutnya, ketentuan mengenai bentuk, susunan, dan penyampaian laporan bulanan diatur dalam Peraturan Otoritas Jasa Keuangan mengenai Laporan Bulanan Industri Keuangan Non Bank.</td>\n",
       "    </tr>\n",
       "    <tr>\n",
       "      <th>3</th>\n",
       "      <td>Anda adalah pakar regulasi keuangan Indonesia. Jawablah berdasarkan konteks yang disediakan; jika tidak terdapat pada konteks, jawab “Saya tidak tahu terkait {question}.”\\n\\nContext:\\nPasal 28 \\n\\n(1) Lembaga Penjaminan wajib menyampaikan laporan bulanan secara lengkap dan benar kepada Otoritas Jasa Keuangan.  \\n\\n\\n(2) Ketentuan mengenai bentuk, susunan dan penyampaian laporan bulanan diatur dalam Peraturan Otoritas Jasa Keuangan mengenai Laporan Bulanan Industri Keuangan Non Bank.\\n\\nQuestion: Apa kewajiban yang ditetapkan terkait isi laporan bulanan menurut Pasal 28?\\nAnswer:</td>\n",
       "      <td>Saya tidak tahu terkait kewajiban yang ditetapkan terkait isi laporan bulanan menurut Pasal 28.</td>\n",
       "      <td>Kewajiban yang ditetapkan terkait isi laporan bulanan menurut Pasal 28 adalah Lembaga Penjaminan wajib menyampaikan laporan bulanan secara lengkap dan benar kepada Otoritas Jasa Keuangan.</td>\n",
       "    </tr>\n",
       "    <tr>\n",
       "      <th>4</th>\n",
       "      <td>Anda adalah pakar regulasi keuangan Indonesia. Jawablah berdasarkan konteks yang disediakan; jika tidak terdapat pada konteks, jawab “Saya tidak tahu terkait {question}.”\\n\\nContext:\\nPasal 29 (1) Dalam hal LKM mengalami kesulitan likuiditas dan solvabilitas yang membahayakan keberlangsungan usahanya, OJK dapat melakukan tindakan agar: a. pemegang saham atau anggota menambah modal; b. pemegang saham atau rapat anggota mengganti Direksi dan/atau Dewan Komisaris LKM; c. LKM menghapusbukukan Pinjaman atau Pembiayaan yang macet dan memperhitungkan kerugian LKM dengan modalnya; d. LKM melakukan penggabungan atau peleburan dengan LKM lain;  e. kepemilikan LKM dialihkan kepada pihak lain yang bersedia mengambil alih seluruh kewajiban; f. LKM menyerahkan pengelolaan seluruh atau sebagian kegiatan LKM kepada pihak lain; dan/atau g. LKM menjual sebagian atau seluruh harta dan/atau kewajiban LKM kepada LKM lain atau pihak lain. (2) Likuiditas dan solvabilitas yang dinilai membahayakan keberlangsungan usaha LKM sebagaimana dimaksud pada ayat (1) apabila rasio likuiditas kurang dari 3% (tiga persen) dan rasio solvabilitas kurang dari 100% (seratus persen). (3) Tindakan sebagaimana dimaksud pada ayat (1) dilakukan dalam jangka waktu paling lama 6 (enam) bulan terhitung sejak tanggal pemberitahuan dari OJK untuk melakukan tindakan penyehatan. (4) OJK dapat memperpanjang jangka waktu sebagaimana dimaksud pada ayat (3) sebanyak 1 (satu) kali untuk jangka waktu paling lama 6 (enam) bulan. (5) Dalam hal tindakan sebagaimana dimaksud pada ayat (1) tidak dapat mengatasi kesulitan likuiditas dan solvabilitas sebagaimana dimaksud pada ayat (2), OJK mencabut izin usaha LKM yang bersangkutan dan memerintahkan Direksi LKM untuk segera menyelenggarakan...\\n\\nQuestion: Apa yang dimaksud dengan kondisi likuiditas dan solvabilitas yang membahayakan menurut Pasal 29?\\nAnswer:</td>\n",
       "      <td>Kondisi likuiditas dan solvabilitas yang membahayakan adalah apabila rasio likuiditas kurang dari 3% dan rasio solvabilitas kurang dari 100%.</td>\n",
       "      <td>Kondisi likuiditas dan solvabilitas yang membahayakan menurut Pasal 29 adalah rasio likuiditas kurang dari 3% (tiga persen) dan rasio solvabilitas kurang dari 100% (seratus persen).</td>\n",
       "    </tr>\n",
       "  </tbody>\n",
       "</table>\n",
       "</div>"
      ],
      "text/plain": [
       "                                                                                                                                                                                                                                                                                                                                                                                                                                                                                                                                                                                                                                                                                                                                                                                                                                                                                                                                                                                                                                                                                                                                                                                                                                                                                                                                                                                                                                                                                                                                                                                                                                                                                                                                                                                                                                                                                                                                                  prompt  \\\n",
       "0                                                                                                                                                                                                                                                                                                                                                                                                                                                                                                                                                                                                                                                                                                                           Anda adalah pakar regulasi keuangan Indonesia. Jawablah berdasarkan konteks yang disediakan; jika tidak terdapat pada konteks, jawab “Saya tidak tahu terkait {question}.”\\n\\nContext:\\nKerangka Tata Kelola sebagaimana dimaksud dalam Pasal 28 ayat (1) huruf pelaksanaan fungsi kepatuhan, fungsi audit intern, dan pelaksanaan sebagaimana dimaksud pada ayat (1) huruf b, huruf d, dan huruf h sebagaimana dimaksud dalam Pasal 30 ayat (1) huruf a, serta calon Dewan Pengawas Syariah sebagaimana dimaksud dalam Pasal 30 ayat (1) huruf b paling Pasal ... a. persyaratan calon anggota Direksi dan calon anggota Dewan Komisaris; tugas dan tanggung jawab Satuan Kerja Audit Intern Terintegrasi; dan pelaksanaan fungsi pengawasan oleh Dewan Komisaris; persyaratan calon anggota Dewan Pengawas Syariah; independensi tindakan Dewan Komisaris; struktur Direksi dan Dewan Komisaris; pelaksanaan fungsi manajemen risiko; Pasal 30 Pasal 31 - 12 - struktur Dewan Pengawas Syariah;  pengelolaan benturan kepentingan. kebijakan remunerasi; dan b memuat paling sedikit: audit ekstern; Entitas Utama; Syariah.\\n\\nQuestion: Apa saja yang harus dimuat dalam kerangka Tata Kelola menurut Pasal 30?\\nAnswer:   \n",
       "1                                                                                                                                                                                                                                                                                                                                                                                                                                                                                                                                                                                                                                                                                                                                   Anda adalah pakar regulasi keuangan Indonesia. Jawablah berdasarkan konteks yang disediakan; jika tidak terdapat pada konteks, jawab “Saya tidak tahu terkait {question}.”\\n\\nContext:\\nKerangka Tata Kelola sebagaimana dimaksud dalam Pasal 28 ayat (1) huruf pelaksanaan fungsi kepatuhan, fungsi audit intern, dan pelaksanaan sebagaimana dimaksud pada ayat (1) huruf b, huruf d, dan huruf h sebagaimana dimaksud dalam Pasal 30 ayat (1) huruf a, serta calon Dewan Pengawas Syariah sebagaimana dimaksud dalam Pasal 30 ayat (1) huruf b paling Pasal ... a. persyaratan calon anggota Direksi dan calon anggota Dewan Komisaris; tugas dan tanggung jawab Satuan Kerja Audit Intern Terintegrasi; dan pelaksanaan fungsi pengawasan oleh Dewan Komisaris; persyaratan calon anggota Dewan Pengawas Syariah; independensi tindakan Dewan Komisaris; struktur Direksi dan Dewan Komisaris; pelaksanaan fungsi manajemen risiko; Pasal 30 Pasal 31 - 12 - struktur Dewan Pengawas Syariah;  pengelolaan benturan kepentingan. kebijakan remunerasi; dan b memuat paling sedikit: audit ekstern; Entitas Utama; Syariah.\\n\\nQuestion: Bagaimana mekanisme pelaporan audit ekstern menurut segmen ini?\\nAnswer:   \n",
       "2                                                                                                                                                                                                                                                                                                                                                                                                                                                                                                                                                                                                                                                                                                                                                                                                                                                                                                                                                                                                                                                                                                                                                                                                                                                                                                                                                Anda adalah pakar regulasi keuangan Indonesia. Jawablah berdasarkan konteks yang disediakan; jika tidak terdapat pada konteks, jawab “Saya tidak tahu terkait {question}.”\\n\\nContext:\\nPasal 28 \\n\\n(1) Lembaga Penjaminan wajib menyampaikan laporan bulanan secara lengkap dan benar kepada Otoritas Jasa Keuangan.  \\n\\n\\n(2) Ketentuan mengenai bentuk, susunan dan penyampaian laporan bulanan diatur dalam Peraturan Otoritas Jasa Keuangan mengenai Laporan Bulanan Industri Keuangan Non Bank.\\n\\nQuestion: Apa mekanisme pelaporan bulanan bagi Lembaga Penjaminan menurut Pasal 28?\\nAnswer:   \n",
       "3                                                                                                                                                                                                                                                                                                                                                                                                                                                                                                                                                                                                                                                                                                                                                                                                                                                                                                                                                                                                                                                                                                                                                                                                                                                                                                                                              Anda adalah pakar regulasi keuangan Indonesia. Jawablah berdasarkan konteks yang disediakan; jika tidak terdapat pada konteks, jawab “Saya tidak tahu terkait {question}.”\\n\\nContext:\\nPasal 28 \\n\\n(1) Lembaga Penjaminan wajib menyampaikan laporan bulanan secara lengkap dan benar kepada Otoritas Jasa Keuangan.  \\n\\n\\n(2) Ketentuan mengenai bentuk, susunan dan penyampaian laporan bulanan diatur dalam Peraturan Otoritas Jasa Keuangan mengenai Laporan Bulanan Industri Keuangan Non Bank.\\n\\nQuestion: Apa kewajiban yang ditetapkan terkait isi laporan bulanan menurut Pasal 28?\\nAnswer:   \n",
       "4  Anda adalah pakar regulasi keuangan Indonesia. Jawablah berdasarkan konteks yang disediakan; jika tidak terdapat pada konteks, jawab “Saya tidak tahu terkait {question}.”\\n\\nContext:\\nPasal 29 (1) Dalam hal LKM mengalami kesulitan likuiditas dan solvabilitas yang membahayakan keberlangsungan usahanya, OJK dapat melakukan tindakan agar: a. pemegang saham atau anggota menambah modal; b. pemegang saham atau rapat anggota mengganti Direksi dan/atau Dewan Komisaris LKM; c. LKM menghapusbukukan Pinjaman atau Pembiayaan yang macet dan memperhitungkan kerugian LKM dengan modalnya; d. LKM melakukan penggabungan atau peleburan dengan LKM lain;  e. kepemilikan LKM dialihkan kepada pihak lain yang bersedia mengambil alih seluruh kewajiban; f. LKM menyerahkan pengelolaan seluruh atau sebagian kegiatan LKM kepada pihak lain; dan/atau g. LKM menjual sebagian atau seluruh harta dan/atau kewajiban LKM kepada LKM lain atau pihak lain. (2) Likuiditas dan solvabilitas yang dinilai membahayakan keberlangsungan usaha LKM sebagaimana dimaksud pada ayat (1) apabila rasio likuiditas kurang dari 3% (tiga persen) dan rasio solvabilitas kurang dari 100% (seratus persen). (3) Tindakan sebagaimana dimaksud pada ayat (1) dilakukan dalam jangka waktu paling lama 6 (enam) bulan terhitung sejak tanggal pemberitahuan dari OJK untuk melakukan tindakan penyehatan. (4) OJK dapat memperpanjang jangka waktu sebagaimana dimaksud pada ayat (3) sebanyak 1 (satu) kali untuk jangka waktu paling lama 6 (enam) bulan. (5) Dalam hal tindakan sebagaimana dimaksud pada ayat (1) tidak dapat mengatasi kesulitan likuiditas dan solvabilitas sebagaimana dimaksud pada ayat (2), OJK mencabut izin usaha LKM yang bersangkutan dan memerintahkan Direksi LKM untuk segera menyelenggarakan...\\n\\nQuestion: Apa yang dimaksud dengan kondisi likuiditas dan solvabilitas yang membahayakan menurut Pasal 29?\\nAnswer:   \n",
       "\n",
       "                                                                                                                                                                              ground_truth  \\\n",
       "0   Perubahan yang diatur mencakup persyaratan calon anggota Direksi, Dewan Komisaris, Dewan Pengawas Syariah, tugas audit intern, pengawasan, manajemen risiko, dan kebijakan remunerasi.   \n",
       "1                                                                                                            Saya tidak tahu terkait mekanisme pelaporan audit ekstern menurut segmen ini.   \n",
       "2                                                           Mekanisme pelaporan dijelaskan sebagai kewajiban menyampaikan laporan bulanan lengkap dan benar kepada Otoritas Jasa Keuangan.   \n",
       "3                                                                                          Saya tidak tahu terkait kewajiban yang ditetapkan terkait isi laporan bulanan menurut Pasal 28.   \n",
       "4                                            Kondisi likuiditas dan solvabilitas yang membahayakan adalah apabila rasio likuiditas kurang dari 3% dan rasio solvabilitas kurang dari 100%.   \n",
       "\n",
       "                                                                                                                                                                                                                                                                                                                                 pred_grpo_SeaLLMs-v3-7B  \n",
       "0                                                                       Menurut konteks yang disediakan, tidak terdapat informasi tentang apa saja yang harus dimuat dalam kerangka Tata Kelola menurut Pasal 30. Oleh karena itu, jawaban saya adalah \"Saya tidak tahu terkait apa saja yang harus dimuat dalam kerangka Tata Kelola menurut Pasal 30.\"  \n",
       "1                                                                                                                                                                                                                                                                Saya tidak tahu terkait bagaimana mekanisme pelaporan audit ekstern menurut segmen ini.  \n",
       "2   Mekanisme pelaporan bulanan bagi Lembaga Penjaminan menurut Pasal 28 adalah menyampaikan laporan bulanan secara lengkap dan benar kepada Otoritas Jasa Keuangan. Selanjutnya, ketentuan mengenai bentuk, susunan, dan penyampaian laporan bulanan diatur dalam Peraturan Otoritas Jasa Keuangan mengenai Laporan Bulanan Industri Keuangan Non Bank.  \n",
       "3                                                                                                                                                            Kewajiban yang ditetapkan terkait isi laporan bulanan menurut Pasal 28 adalah Lembaga Penjaminan wajib menyampaikan laporan bulanan secara lengkap dan benar kepada Otoritas Jasa Keuangan.  \n",
       "4                                                                                                                                                                  Kondisi likuiditas dan solvabilitas yang membahayakan menurut Pasal 29 adalah rasio likuiditas kurang dari 3% (tiga persen) dan rasio solvabilitas kurang dari 100% (seratus persen).  "
      ]
     },
     "metadata": {},
     "output_type": "display_data"
    }
   ],
   "source": [
    "# merge all detailed (base + GRPO) into satu DataFrame\n",
    "merged = None\n",
    "\n",
    "for key in MODEL_NAMES:\n",
    "    # 1) base predictions\n",
    "    base_path = f\"./base_evaluation/detailed_{key}.jsonl\"\n",
    "    if os.path.exists(base_path):\n",
    "        base_df = (\n",
    "            pd.read_json(base_path, lines=True)\n",
    "              .rename(columns={ key: f\"pred_base_{key}\" })\n",
    "              [[\"prompt\", \"ground_truth\", f\"pred_base_{key}\"]]\n",
    "        )\n",
    "        merged = base_df if merged is None else merged.merge(\n",
    "            base_df, on=[\"prompt\",\"ground_truth\"], how=\"outer\"\n",
    "        )\n",
    "\n",
    "    # 2) GRPO predictions\n",
    "    grpo_path = f\"grpo_detailed_{key}.jsonl\"\n",
    "    if os.path.exists(grpo_path):\n",
    "        grpo_df = (\n",
    "            pd.read_json(grpo_path, lines=True)\n",
    "              .rename(columns={ key: f\"pred_grpo_{key}\" })\n",
    "              [[\"prompt\", \"ground_truth\", f\"pred_grpo_{key}\"]]\n",
    "        )\n",
    "        merged = grpo_df if merged is None else merged.merge(\n",
    "            grpo_df, on=[\"prompt\",\"ground_truth\"], how=\"outer\"\n",
    "        )\n",
    "\n",
    "print(f\"Total rows in merged DataFrame: {len(merged)}\")\n",
    "display(merged.head())\n"
   ]
  },
  {
   "cell_type": "code",
   "execution_count": null,
   "id": "bd0b254d",
   "metadata": {},
   "outputs": [],
   "source": [
    "import signal\n",
    "\n",
    "os.kill(os.getpid(), signal.SIGTERM)"
   ]
  },
  {
   "cell_type": "code",
   "execution_count": null,
   "id": "5cb6a308",
   "metadata": {},
   "outputs": [],
   "source": []
  },
  {
   "cell_type": "code",
   "execution_count": null,
   "id": "ef241572",
   "metadata": {},
   "outputs": [],
   "source": []
  },
  {
   "cell_type": "code",
   "execution_count": null,
   "id": "1962db71",
   "metadata": {},
   "outputs": [],
   "source": []
  }
 ],
 "metadata": {
  "kernelspec": {
   "display_name": "Python (rlaifenv )",
   "language": "python",
   "name": "rlaifenv"
  },
  "language_info": {
   "codemirror_mode": {
    "name": "ipython",
    "version": 3
   },
   "file_extension": ".py",
   "mimetype": "text/x-python",
   "name": "python",
   "nbconvert_exporter": "python",
   "pygments_lexer": "ipython3",
   "version": "3.10.16"
  }
 },
 "nbformat": 4,
 "nbformat_minor": 5
}
